{
 "cells": [
  {
   "cell_type": "code",
   "execution_count": 1,
   "metadata": {
    "collapsed": true
   },
   "outputs": [],
   "source": [
    "{-# LANGUAGE OverloadedLists #-}\n",
    "import Math.FunctionalAnalysis.L2Function.R1\n",
    "import qualified Data.Vector.Unboxed as UArr\n",
    "import qualified Data.Vector as Arr\n",
    "import Graphics.Dynamic.Plot.R2"
   ]
  },
  {
   "cell_type": "code",
   "execution_count": 2,
   "metadata": {
    "collapsed": false
   },
   "outputs": [],
   "source": [
    "smooth :: UArr.Vector Int -> Arr.Vector (UnitL2 Int Double) -> UnitL2 Int Double\n",
    "smooth scfs subdivs = UnitL2 1 (-1) 1 scfs DiscreteSineTransform subdivs"
   ]
  },
  {
   "cell_type": "code",
   "execution_count": 4,
   "metadata": {
    "collapsed": false
   },
   "outputs": [
    {
     "data": {
      "text/plain": [
       "GraphWindowSpecR2{lBound=-0.16666666666666666, rBound=1.1666666666666667, bBound=-5.030735922852976, tBound=12.18473186333151, xResolution=640, yResolution=480}"
      ]
     },
     "metadata": {},
     "output_type": "display_data"
    }
   ],
   "source": [
    "plotWindow\n",
    " [ continFnPlot $ evalUnitL2 (smooth [3,-2,-1,1]\n",
    "                    [smooth [][], smooth [-2,0,-1,0,1] [], smooth [0,2,0,-1][]])\n",
    " , xInterval (0,1) ]"
   ]
  },
  {
   "cell_type": "code",
   "execution_count": null,
   "metadata": {
    "collapsed": true
   },
   "outputs": [],
   "source": []
  }
 ],
 "metadata": {
  "kernelspec": {
   "display_name": "Haskell",
   "language": "haskell",
   "name": "haskell"
  },
  "language_info": {
   "codemirror_mode": "ihaskell",
   "file_extension": ".hs",
   "name": "haskell",
   "version": "7.10.2"
  }
 },
 "nbformat": 4,
 "nbformat_minor": 0
}
