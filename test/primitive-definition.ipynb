{
 "cells": [
  {
   "cell_type": "code",
   "execution_count": 1,
   "metadata": {
    "collapsed": true
   },
   "outputs": [],
   "source": [
    "{-# LANGUAGE OverloadedLists #-}\n",
    "import Math.FunctionalAnalysis.L2Function.R1\n",
    "import qualified Data.Vector.Storable as UArr\n",
    "import qualified Data.Vector as Arr\n",
    "import Graphics.Dynamic.Plot.R2"
   ]
  },
  {
   "cell_type": "code",
   "execution_count": 2,
   "metadata": {
    "collapsed": false
   },
   "outputs": [],
   "source": [
    "smooth :: UArr.Vector Int -> Arr.Vector (UnitL2 Int Double) -> UnitL2 Int Double\n",
    "smooth scfs subdivs = UnitL2 1 (-1, 1) scfs DiscreteSineTransform subdivs"
   ]
  },
  {
   "cell_type": "code",
   "execution_count": 3,
   "metadata": {
    "collapsed": false
   },
   "outputs": [
    {
     "data": {
      "text/plain": [
       "GraphWindowSpecR2{lBound=-0.16666666666666669, rBound=1.1666666666666665, bBound=-4.334226775952243, tBound=12.565580368465978, xResolution=640, yResolution=480}"
      ]
     },
     "metadata": {},
     "output_type": "display_data"
    }
   ],
   "source": [
    "plotWindow\n",
    " [ continFnPlot $ evalUnitL2 (smooth [3,-2,-1,1]\n",
    "                    [smooth [][], smooth [-2,0,-1,0,1] [], smooth [0,2,0,-1][]])\n",
    " , xInterval (0,1) ]"
   ]
  },
  {
   "cell_type": "code",
   "execution_count": 4,
   "metadata": {
    "collapsed": true
   },
   "outputs": [],
   "source": [
    "f :: Double -> Double\n",
    "f x = exp (-20*(x-0.5)^2)"
   ]
  },
  {
   "cell_type": "code",
   "execution_count": 5,
   "metadata": {
    "collapsed": false
   },
   "outputs": [
    {
     "data": {
      "text/plain": [
       "GraphWindowSpecR2{lBound=-0.16666666666666663, rBound=1.1666666666666667, bBound=-0.1382121336707107, tBound=1.1068639328109162, xResolution=640, yResolution=480}"
      ]
     },
     "metadata": {},
     "output_type": "display_data"
    }
   ],
   "source": [
    "plotWindow $ [continFnPlot f]\n",
    "          ++ [ continFnPlot $ evalUnitL2\n",
    "               (fromUniformSampled (SigSampleConfig 256 16 nLocal 30 1e-6)\n",
    "                                   (UArr.fromList $ f<$>[1/48, 2/48 .. 47/48]) :: UnitL2 Int Double)\n",
    "             | nLocal <- [8, 64] ]\n",
    "          ++ [xInterval (0,1)]"
   ]
  },
  {
   "cell_type": "code",
   "execution_count": null,
   "metadata": {
    "collapsed": true
   },
   "outputs": [],
   "source": []
  }
 ],
 "metadata": {
  "kernelspec": {
   "display_name": "Haskell",
   "language": "haskell",
   "name": "haskell"
  },
  "language_info": {
   "codemirror_mode": "ihaskell",
   "file_extension": ".hs",
   "name": "haskell",
   "version": "7.10.2"
  }
 },
 "nbformat": 4,
 "nbformat_minor": 0
}
