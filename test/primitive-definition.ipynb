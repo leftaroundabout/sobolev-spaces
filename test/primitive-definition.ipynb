{
 "cells": [
  {
   "cell_type": "code",
   "execution_count": 1,
   "metadata": {
    "collapsed": true
   },
   "outputs": [],
   "source": [
    "{-# LANGUAGE OverloadedLists #-}\n",
    "import Math.FunctionalAnalysis.L2Function.R1\n",
    "import qualified Data.Vector.Storable as UArr\n",
    "import qualified Data.Vector as Arr\n",
    "import Graphics.Dynamic.Plot.R2\n",
    "import Data.Complex"
   ]
  },
  {
   "cell_type": "code",
   "execution_count": 2,
   "metadata": {
    "collapsed": false
   },
   "outputs": [],
   "source": [
    "smooth :: UArr.Vector Int -> Arr.Vector (UnitL2 Int Double) -> UnitL2 Int Double\n",
    "smooth scfs subdivs = UnitL2 1 (-1, 1) (UArr.map (:+0) scfs) OutlappingDFT subdivs"
   ]
  },
  {
   "cell_type": "code",
   "execution_count": 3,
   "metadata": {
    "collapsed": false
   },
   "outputs": [],
   "source": [
    "unitL2Plot :: UnitL2 Int Double -> DynamicPlottable\n",
    "unitL2Plot f = lineSegPlot . zip [h/2, 3*h/2 ..]\n",
    "                   $ UArr.toList fUniform\n",
    " where fUniform = toUniformSampled n f\n",
    "       n = 437\n",
    "       h = 1/fromIntegral n"
   ]
  },
  {
   "cell_type": "code",
   "execution_count": 4,
   "metadata": {
    "collapsed": false
   },
   "outputs": [
    {
     "data": {
      "text/plain": [
       "GraphWindowSpecR2{lBound=-0.16666666666666669, rBound=1.1666666666666665, bBound=-2.8059521342198575, tBound=5.239926032611057, xResolution=640, yResolution=480}"
      ]
     },
     "metadata": {},
     "output_type": "display_data"
    }
   ],
   "source": [
    "plotWindow\n",
    " [ unitL2Plot (smooth [0,0,0,2] -- [3,-2,-1,1]\n",
    "                    [smooth [][], smooth [1,1] [], smooth [][], smooth [0,1,1,1][]])\n",
    " , xInterval (0,1) ]"
   ]
  },
  {
   "cell_type": "code",
   "execution_count": 5,
   "metadata": {
    "collapsed": true
   },
   "outputs": [],
   "source": [
    "f :: Double -> Double\n",
    "f x = exp (-20*(x-0.5)^2)"
   ]
  },
  {
   "cell_type": "code",
   "execution_count": 6,
   "metadata": {
    "collapsed": false
   },
   "outputs": [
    {
     "data": {
      "text/plain": [
       "GraphWindowSpecR2{lBound=-0.16666666666666669, rBound=1.166666666666667, bBound=-0.23181511818223857, tBound=1.183461757084857, xResolution=640, yResolution=480}"
      ]
     },
     "metadata": {},
     "output_type": "display_data"
    }
   ],
   "source": [
    "plotWindow $ [continFnPlot f]\n",
    "          ++ [ legendName (\"nLocal=\"++show nLocal) $ unitL2Plot\n",
    "               (fromUniformSampled (SigSampleConfig 256 16 nLocal 30 1e-6)\n",
    "                                   (UArr.fromList $ f<$>[1/48, 2/48 .. 47/48]) :: UnitL2 Int Double)\n",
    "             | nLocal <- [17, 64] ]\n",
    "          ++ [xInterval (0,1)]"
   ]
  },
  {
   "cell_type": "code",
   "execution_count": 7,
   "metadata": {
    "collapsed": true
   },
   "outputs": [],
   "source": [
    "longrange :: UnitL2 Int Double -> UnitL2 Int Double\n",
    "longrange (UnitL2 μ r lr tfm _) = UnitL2 μ r lr tfm []"
   ]
  },
  {
   "cell_type": "code",
   "execution_count": 8,
   "metadata": {
    "collapsed": false
   },
   "outputs": [
    {
     "data": {
      "text/plain": [
       "GraphWindowSpecR2{lBound=-0.16666666666666666, rBound=1.1666666666666667, bBound=-1.3137514745785752, tBound=1.527729063868579, xResolution=640, yResolution=480}"
      ]
     },
     "metadata": {},
     "output_type": "display_data"
    }
   ],
   "source": [
    "g :: Double -> Double\n",
    "g x = tanh (f x * 3) * sin (40*x) + tanh (f (5*x - 3) * 3) * cos (53*x)\n",
    "plotWindow $ [continFnPlot g]\n",
    "          ++ [ legendName (\"nLocal=\"++show nLocal) $ unitL2Plot (\n",
    "                 fromUniformSampled (SigSampleConfig 256 16 nLocal 150 1e-6)\n",
    "                                   (UArr.fromList $ g<$>[0.001, 0.002 .. 0.999]) :: UnitL2 Int Double )\n",
    "             | nLocal <- [32, 64] ]\n",
    "          ++ [xInterval (0,1)]"
   ]
  },
  {
   "cell_type": "code",
   "execution_count": null,
   "metadata": {
    "collapsed": true
   },
   "outputs": [],
   "source": []
  }
 ],
 "metadata": {
  "kernelspec": {
   "display_name": "Haskell",
   "language": "haskell",
   "name": "haskell"
  },
  "language_info": {
   "codemirror_mode": "ihaskell",
   "file_extension": ".hs",
   "name": "haskell",
   "version": "7.10.2"
  }
 },
 "nbformat": 4,
 "nbformat_minor": 0
}
