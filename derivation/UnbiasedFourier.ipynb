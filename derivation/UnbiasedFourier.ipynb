{
 "cells": [
  {
   "cell_type": "code",
   "execution_count": 1,
   "metadata": {
    "collapsed": true
   },
   "outputs": [],
   "source": [
    "import Graphics.Dynamic.Plot.R2\n",
    "import Data.Complex\n",
    "import Data.Monoid"
   ]
  },
  {
   "cell_type": "markdown",
   "metadata": {},
   "source": [
    "We want to express the following series transformation $\\operatorname{BFT}: \\mathbb{C}^\\mathbb{N} \\to \\mathbb{R}^\\mathbb{R} , x\\mapsto y$:\n",
    "$$\n",
    "  y(t) = \\sum_{k=0}^\\infty \\left( \\Re{x_k} \\cdot \\cos ((k+\\tfrac12)\\cdot \\pi \\cdot t)\n",
    "                                - \\Im{x_k} \\cdot \\sin ((k+\\tfrac12)\\cdot \\pi \\cdot t) \\right).\n",
    "$$"
   ]
  },
  {
   "cell_type": "code",
   "execution_count": 2,
   "metadata": {
    "collapsed": false
   },
   "outputs": [
    {
     "data": {
      "text/plain": [
       "GraphWindowSpecR2{lBound=-0.5, rBound=0.5, bBound=-1.31040238275929, tBound=1.3265344360891878, xResolution=640, yResolution=480}"
      ]
     },
     "metadata": {},
     "output_type": "display_data"
    }
   ],
   "source": [
    "plotWindow $ [ plot $ continFnPlot . (.((k+1/2)*pi*))<$>[cos, negate . sin]\n",
    "             | k <- [0..3] ]\n",
    "          ++ [forceXRange (-0.5,0.5)]"
   ]
  },
  {
   "cell_type": "markdown",
   "metadata": {},
   "source": [
    "![Basis functions for invertible real-complex Fourier trafo](https://raw.githubusercontent.com/leftaroundabout/sobolev-spaces/master/derivation/Fourier-basis.png)"
   ]
  },
  {
   "cell_type": "code",
   "execution_count": 3,
   "metadata": {
    "collapsed": false
   },
   "outputs": [],
   "source": [
    "myFourier :: [Complex Double] -> Double->Double\n",
    "myFourier xs t = sum [ rx * cos ((k+1/2)*pi*t) + ix * sin ((k+1/2)*pi*t)\n",
    "                     | (k, rx:+ix) <- zip [0..] xs ]"
   ]
  },
  {
   "cell_type": "markdown",
   "metadata": {},
   "source": [
    "Using $(\\cos,i\\sin) \\varphi = \\tfrac12 (e^{i\\cdot\\varphi} \\pm e^{-i\\cdot\\varphi})$,\n",
    "$$\\begin{align}\n",
    "  y(t)\n",
    "    =& \\tfrac12 \\cdot \\sum_{k=0}^\\infty\n",
    "           \\left( \\Re{x_k} \\cdot (e^{i\\pi\\cdot(k+\\tfrac12)\\cdot t} + e^{-i\\pi\\cdot(k+\\tfrac12)\\cdot t})\n",
    "                - i\\Im{x_k} \\cdot (e^{i\\pi\\cdot(k+\\tfrac12)\\cdot t} - e^{-i\\pi\\cdot(k+\\tfrac12)\\cdot t}) \\right)\n",
    "  \\\\=& \\tfrac12 \\cdot \\sum_{k=0}^\\infty\n",
    "           \\left( (\\Re{x_k} - i\\Im{x_i}) \\cdot e^{i\\pi\\cdot(k+\\tfrac12)\\cdot t}\n",
    "                 + (\\Re{x_k} + i\\Im{x_i}) \\cdot e^{-i\\pi\\cdot(k+\\tfrac12)\\cdot t}\n",
    "                 \\right)\n",
    "  \\\\=& \\sum_{k=0}^\\infty\n",
    "           \\Re\\left( x_k \\cdot (e^{i\\pi\\cdot(k+\\tfrac12)\\cdot t})^\\ast \\right)\n",
    "  \\\\=& \\Re\\left( e^{-i\\frac{\\pi\\cdot t}2} \\sum_{k=0}^\\infty\n",
    "           x_k \\cdot e^{-i\\pi\\cdot k\\cdot t} \\right)\n",
    "\\end{align}$$"
   ]
  },
  {
   "cell_type": "code",
   "execution_count": 4,
   "metadata": {
    "collapsed": false
   },
   "outputs": [],
   "source": [
    "-- myFourier xs t = realPart $ cis (-pi*t/2) * sum [x * cis (-pi*k*t) | (k,x) <- zip [0..] xs]"
   ]
  },
  {
   "cell_type": "markdown",
   "metadata": {},
   "source": [
    "Discretised over points $-1+\\tfrac1n , -1 + \\tfrac3n \\ldots 1 - \\tfrac1{n}$ (midpoints of $n$ subdivisions of the interval $[-1,1]$), i.e.\n",
    "$$\\begin{align}\n",
    "  t_j = -1 + \\tfrac{1+2\\cdot j}{n}\n",
    "      = \\tfrac{1-n}{n} + \\tfrac{2\\cdot j}{n}\n",
    "\\end{align}$$\n",
    "we get\n",
    "$$\\begin{align}\n",
    "  y_j\n",
    "    =& \\Re\\left( e^{-\\tfrac{i\\pi}2\\cdot t_j} \\sum_{k=0}^{n/2 - 1}\n",
    "           x_k \\cdot e^{-i\\pi\\cdot k\\cdot \\left(\\tfrac{1-n}{n} + \\tfrac{2\\cdot j}{n}\\right)} \\right)\n",
    "  \\\\=& \\Re\\left( e^{-\\tfrac{i\\pi}2\\cdot t_j} \\sum_{k=0}^{n/2 - 1}\n",
    "           x_k \\cdot e^{-i\\pi\\cdot k\\cdot\\tfrac{1-n}{n}} \\cdot e^{-2i\\pi\\cdot\\tfrac{k\\cdot j}{n}} \\right)\n",
    "  \\\\\\equiv& \\Re\\left( \\mu_j \\sum_{k=0}^{n - 1}\n",
    "           \\xi_k \\cdot e^{-2i\\pi\\cdot\\tfrac{k\\cdot j}{\\tilde n}} \\right)\n",
    "      = \\Re\\left(\\mu_j \\cdot \\operatorname{DFT}(\\xi)_j\\right)\n",
    "\\end{align}$$"
   ]
  },
  {
   "cell_type": "markdown",
   "metadata": {},
   "source": [
    "with\n",
    "$$\n",
    "  \\xi_k = \\begin{cases}\n",
    "              x_k \\cdot e^{-i\\pi\\cdot k\\cdot\\tfrac{1-n}{n}}\n",
    "                 & \\text{for }k<\\tfrac{n}2\n",
    "            \\\\ 0 & \\text{else}\n",
    "          \\end{cases}\n",
    "$$\n",
    "and\n",
    "$$\n",
    "  \\mu_j = e^{-\\tfrac{i\\pi}2\\cdot t_j}.\n",
    "$$\n",
    "Thus, the transform can be implemented using FFT standards:"
   ]
  },
  {
   "cell_type": "code",
   "execution_count": 5,
   "metadata": {
    "collapsed": false
   },
   "outputs": [],
   "source": [
    "import Numeric.FFT.Vector.Invertible\n",
    "import qualified Data.Vector.Storable as SArr\n",
    "import qualified Data.Vector.Generic as Arr\n",
    "\n",
    "myFFourier :: [Complex Double] -> [(Double,Double)]\n",
    "myFFourier xs = [ (t, realPart $ μ*υ)\n",
    "                | (j,υ) <- zip [0..] $ SArr.toList (run dft ξs)\n",
    "                , let μ = cis $ -pi * t/2\n",
    "                      t = ((1-n)/n + 2*j/n)]\n",
    " where ξs = SArr.fromList $\n",
    "               [x * cis (-pi*k*(1-n)/n) | (k,x) <- zip [0..] xs]\n",
    "             ++ (const 0<$>xs)\n",
    "       n = fromIntegral $ length xs * 2"
   ]
  },
  {
   "cell_type": "code",
   "execution_count": 6,
   "metadata": {
    "collapsed": true
   },
   "outputs": [],
   "source": [
    "someCoefs :: [Complex Double]\n",
    "someCoefs = [0.4:+0.0, 0.6:+1.0, (-0.7):+(-0.6), 0.6:+(-0.9), 0.0:+1.0, 0.1:+0.1, (-0.6):+(-0.2), 0.7:+(-1.0)\n",
    "            , 0, 0, 0, 0 ]"
   ]
  },
  {
   "cell_type": "code",
   "execution_count": 7,
   "metadata": {
    "collapsed": false
   },
   "outputs": [
    {
     "data": {
      "text/plain": [
       "GraphWindowSpecR2{lBound=-1.277777777777778, rBound=1.277777777777778, bBound=-5.318355746967219, tBound=5.851583402618405, xResolution=640, yResolution=480}"
      ]
     },
     "metadata": {},
     "output_type": "display_data"
    }
   ],
   "source": [
    "plotWindow [ continFnPlot $ myFourier someCoefs\n",
    "           , lineSegPlot $ myFFourier someCoefs ]"
   ]
  },
  {
   "cell_type": "markdown",
   "metadata": {},
   "source": [
    "![Testing the specialised forward DFT](https://raw.githubusercontent.com/leftaroundabout/sobolev-spaces/master/derivation/FW-FT-test.png)"
   ]
  },
  {
   "cell_type": "markdown",
   "metadata": {},
   "source": [
    "To perform the inverse transform, we first need to reconstruct the discarded\n",
    "imaginary parts of $\\mu_j \\cdot \\operatorname{DFT}(\\xi)_j$,\n",
    "since that DFT actually operates on $\\mathbb{C}^{n}$ rather than $\\mathbb{R}^n$.\n",
    "This is possible because only \n",
    "$$\n",
    "  \\partial_t \\operatorname{BFT}(\\rho)(t) = \\operatorname{BFT}((i\\pi\\cdot (k+\\tfrac12)\\cdot \\rho_k)_{(k)})(t)\n",
    "$$\n",
    "while for real $\\iota$\n",
    "$$\n",
    "  \\partial_t \\operatorname{BFT}(i\\cdot \\iota)(t) = -\\operatorname{BFT}((\\pi\\cdot (k+\\tfrac12)\\cdot \\iota_k)_{(k)})(t).\n",
    "$$\n",
    "We can sort out the real/imaginary parts since they correspond to even/odd components of the signal:\n",
    "for $x = \\rho + i\\cdot \\iota$,\n",
    "$$\\begin{align}\n",
    "     \\operatorname{BFT}(\\rho)(t) = \\tfrac12 (\\operatorname{BFT}(x)(t) + \\operatorname{BFT}(x)(-t)\n",
    "  \\\\ \\operatorname{BFT}(i\\cdot\\iota)(t) = \\tfrac12 (\\operatorname{BFT}(x)(t) - \\operatorname{BFT}(x)(-t).\n",
    "\\end{align}$$\n",
    "Furthermore, it is\n",
    "$$\\begin{align}\n",
    "     \\operatorname{BFT}(\\rho)(t+1) = \\tfrac12 (\\operatorname{BFT}(x)(t) + \\operatorname{BFT}(x)(-t)\n",
    "  \\\\ \\operatorname{BFT}(i\\cdot\\iota)(t) = \\tfrac12 (\\operatorname{BFT}(x)(t) - \\operatorname{BFT}(x)(-t).\n",
    "\\end{align}$$\n",
    "The imaginary part of the (linear!) DFT must correspond to the real part of the complex-rotated\n",
    "coefficients;"
   ]
  },
  {
   "cell_type": "code",
   "execution_count": 8,
   "metadata": {
    "collapsed": false
   },
   "outputs": [],
   "source": [
    "myInvFFourier :: Int -> (Double -> Double) -> [Complex Double]\n",
    "myInvFFourier n' f = [ 2 * cis (pi*k*(1-n)/n) * ξ\n",
    "                     | (k,ξ) <- zip [0..n/2-1] $ SArr.toList ξs ]\n",
    " where ts = SArr.generate n' $ \\j' -> (1-n)/n + 2*fromIntegral j'/n\n",
    "       ys = SArr.map f ts\n",
    "       μinvs = SArr.map (\\t -> cis $ pi*t/2) ts\n",
    "       ξs = run idft μinvys\n",
    "       μinvys = SArr.zipWith (*) μinvs $ SArr.map (:+0) ys\n",
    "       n = fromIntegral n'"
   ]
  },
  {
   "cell_type": "code",
   "execution_count": 9,
   "metadata": {
    "collapsed": false
   },
   "outputs": [
    {
     "data": {
      "text/plain": [
       "GraphWindowSpecR2{lBound=-1.291666666666667, rBound=1.291666666666667, bBound=-2.132912155457216, tBound=1.4220469953686115, xResolution=640, yResolution=480}"
      ]
     },
     "metadata": {},
     "output_type": "display_data"
    }
   ],
   "source": [
    "f x = sin (exp $ 3*x) - x^2\n",
    "--let ((μinvys, μinvðt'ys),_) = myInvFFourier 8 f\n",
    "-- in plotWindow [ legendName (pn++\"(\"++vn++\")\") . lineSegPlot . zip [0..] $ p<$>vs\n",
    "  --             | (vn,vs) <- [(\"μ⁻¹·y\",μinvys), (\"μ⁻¹·∂y/∂t\",(2/pi*)<$>μinvðt'ys)]\n",
    "    --           , (pn,p) <- [(\"Re\",realPart), (\"Im\",imagPart)] ]\n",
    "plotWindow $ continFnPlot f\n",
    "           : [ legendName (\"n=\"++show n) . lineSegPlot . myFFourier $ myInvFFourier n f\n",
    "             | n<-[4,8,16,32] ]"
   ]
  },
  {
   "cell_type": "markdown",
   "metadata": {},
   "source": [
    "![Testing the specialised forward DFT](https://raw.githubusercontent.com/leftaroundabout/sobolev-spaces/master/derivation/FW-FT-inverse-test.png)"
   ]
  },
  {
   "cell_type": "code",
   "execution_count": null,
   "metadata": {
    "collapsed": true
   },
   "outputs": [],
   "source": []
  }
 ],
 "metadata": {
  "kernelspec": {
   "display_name": "Haskell",
   "language": "haskell",
   "name": "haskell"
  },
  "language_info": {
   "codemirror_mode": "ihaskell",
   "file_extension": ".hs",
   "name": "haskell",
   "version": "7.10.2"
  }
 },
 "nbformat": 4,
 "nbformat_minor": 0
}
