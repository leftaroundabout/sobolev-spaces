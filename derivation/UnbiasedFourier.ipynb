{
 "cells": [
  {
   "cell_type": "code",
   "execution_count": 1,
   "metadata": {
    "collapsed": true
   },
   "outputs": [],
   "source": [
    "import Graphics.Dynamic.Plot.R2\n",
    "import Data.Complex"
   ]
  },
  {
   "cell_type": "markdown",
   "metadata": {},
   "source": [
    "We want to express the following series transformation:\n",
    "$$\n",
    "  y(t) = \\sum_{k=0}^\\infty \\left( \\Re{x_k} \\cdot \\cos ((k+\\tfrac12)\\cdot \\pi \\cdot t)\n",
    "                                - \\Im{x_k} \\cdot \\sin ((k+\\tfrac12)\\cdot \\pi \\cdot t) \\right).\n",
    "$$"
   ]
  },
  {
   "cell_type": "code",
   "execution_count": 2,
   "metadata": {
    "collapsed": false
   },
   "outputs": [
    {
     "data": {
      "text/plain": [
       "GraphWindowSpecR2{lBound=-0.5, rBound=0.5, bBound=-1.31040238275929, tBound=1.3265344360891878, xResolution=640, yResolution=480}"
      ]
     },
     "metadata": {},
     "output_type": "display_data"
    }
   ],
   "source": [
    "plotWindow $ [ plot $ continFnPlot . (.((k+1/2)*pi*))<$>[cos, negate . sin]\n",
    "             | k <- [0..3] ]\n",
    "          ++ [forceXRange (-0.5,0.5)]"
   ]
  },
  {
   "cell_type": "code",
   "execution_count": 3,
   "metadata": {
    "collapsed": false
   },
   "outputs": [],
   "source": [
    "myFourier :: [Complex Double] -> Double->Double\n",
    "myFourier xs t = sum [ rx * cos ((k+1/2)*pi*t) + ix * sin ((k+1/2)*pi*t)\n",
    "                     | (k, rx:+ix) <- zip [0..] xs ]"
   ]
  },
  {
   "cell_type": "markdown",
   "metadata": {},
   "source": [
    "Using $(\\cos,i\\sin) \\varphi = \\tfrac12 (e^{i\\cdot\\varphi} \\pm e^{-i\\cdot\\varphi})$,\n",
    "$$\\begin{align}\n",
    "  y(t)\n",
    "    =& \\tfrac12 \\cdot \\sum_{k=0}^\\infty\n",
    "           \\left( \\Re{x_k} \\cdot (e^{i\\pi\\cdot(k+\\tfrac12)\\cdot t} + e^{-i\\pi\\cdot(k+\\tfrac12)\\cdot t})\n",
    "                - i\\Im{x_k} \\cdot (e^{i\\pi\\cdot(k+\\tfrac12)\\cdot t} - e^{-i\\pi\\cdot(k+\\tfrac12)\\cdot t}) \\right)\n",
    "  \\\\=& \\tfrac12 \\cdot \\sum_{k=0}^\\infty\n",
    "           \\left( (\\Re{x_k} - i\\Im{x_i}) \\cdot e^{i\\pi\\cdot(k+\\tfrac12)\\cdot t}\n",
    "                 + (\\Re{x_k} + i\\Im{x_i}) \\cdot e^{-i\\pi\\cdot(k+\\tfrac12)\\cdot t}\n",
    "                 \\right)\n",
    "  \\\\=& \\sum_{k=0}^\\infty\n",
    "           \\Re\\left( x_k \\cdot (e^{i\\pi\\cdot(k+\\tfrac12)\\cdot t})^\\ast \\right)\n",
    "  \\\\=& \\Re\\left( e^{-i\\frac{\\pi\\cdot t}2} \\sum_{k=0}^\\infty\n",
    "           x_k \\cdot e^{-i\\pi\\cdot k\\cdot t} \\right)\n",
    "\\end{align}$$"
   ]
  },
  {
   "cell_type": "markdown",
   "metadata": {},
   "source": [
    "Discretised over points $-\\tfrac12+\\tfrac1{2\\cdot n} , -\\tfrac12 + \\tfrac3{2\\cdot n} \\ldots \\tfrac12 - \\tfrac1{2\\cdot n}$ (midpoints of $n$ subdivisions of the interval $[-\\tfrac12,\\tfrac12]$), i.e.\n",
    "$$\\begin{align}\n",
    "  t_j = -\\tfrac12 + \\tfrac{1+2\\cdot j}{2\\cdot n}\n",
    "      = \\tfrac{1-n}{2\\cdot n} + \\tfrac{j}{n}\n",
    "\\end{align}$$\n",
    "we get\n",
    "$$\\begin{align}\n",
    "  y_j\n",
    "    =& \\Re\\left( e^{-\\tfrac{i\\pi}2\\cdot t_j} \\sum_{k=0}^{n/2 - 1}\n",
    "           x_k \\cdot e^{-i\\pi\\cdot k\\cdot \\left(\\tfrac{1-n}{2\\cdot n} + \\tfrac{j}{n}\\right)} \\right)\n",
    "  \\\\=& \\Re\\left( e^{-\\tfrac{i\\pi}2\\cdot t_j} \\sum_{k=0}^{n/2 - 1}\n",
    "           x_k \\cdot e^{-i\\pi\\cdot k\\cdot\\tfrac{1-n}{2\\cdot n}} \\cdot e^{-i\\pi\\cdot\\tfrac{k\\cdot j}{n}} \\right)\n",
    "  \\\\\\equiv& \\Re\\left( \\mu_j \\sum_{k=0}^{n - 1}\n",
    "           \\xi_k \\cdot e^{-i\\pi\\cdot\\tfrac{k\\cdot j}{n}} \\right)\n",
    "\\end{align}$$\n",
    "with\n",
    "$$\n",
    "  \\xi_k = \\begin{cases}\n",
    "              x_k \\cdot e^{-i\\pi\\cdot k\\cdot\\tfrac{1-n}{2\\cdot n}}\n",
    "                 & \\text{for }k<\\tfrac{n}2\n",
    "            \\\\ 0 & \\text{else}\n",
    "          \\end{cases}\n",
    "$$\n",
    "and\n",
    "$$\n",
    "  \\mu_j = e^{-\\tfrac{i\\pi}2\\cdot t_j}.\n",
    "$$\n",
    "Thus, the transform can be implemented using FFT standards:"
   ]
  },
  {
   "cell_type": "code",
   "execution_count": 4,
   "metadata": {
    "collapsed": false
   },
   "outputs": [],
   "source": [
    "import Numeric.FFT.Vector.Invertible\n",
    "import qualified Data.Vector.Storable as SArr\n",
    "\n",
    "myFFourier :: [Complex Double] -> [(Double,Double)]\n",
    "myFFourier xs = [ (t, realPart $ μ*υ)\n",
    "                | (j,υ) <- zip [0..] $ SArr.toList (run dft ξs)\n",
    "                , let μ = cis $ -pi * t/2\n",
    "                      t = ((1-n)/(2*n) + j/n)]\n",
    " where ξs = SArr.fromList $\n",
    "               [x * cis (-pi*k*(1-n)/(2*n)) | (k,x) <- zip [0..] xs]\n",
    "             ++ (const 0<$>xs)\n",
    "       n = fromIntegral $ length xs"
   ]
  },
  {
   "cell_type": "code",
   "execution_count": 5,
   "metadata": {
    "collapsed": true
   },
   "outputs": [],
   "source": [
    "someCoefs :: [Complex Double]\n",
    "someCoefs = [0.4:+0.0, 0.6:+1.0, (-0.7):+(-0.6), 0.6:+(-0.9), 0.0:+1.0, 0.1:+0.1, (-0.6):+(-0.2), 0.7:+(-1.0)\n",
    "            , 0, 0, 0, 0 ]"
   ]
  },
  {
   "cell_type": "code",
   "execution_count": 6,
   "metadata": {
    "collapsed": false
   },
   "outputs": [
    {
     "data": {
      "text/plain": [
       "GraphWindowSpecR2{lBound=-0.7777777777777778, rBound=1.7777777777777781, bBound=-5.318355746967217, tBound=5.851583402618401, xResolution=640, yResolution=480}"
      ]
     },
     "metadata": {},
     "output_type": "display_data"
    }
   ],
   "source": [
    "plotWindow [ continFnPlot $ myFourier someCoefs\n",
    "           , lineSegPlot $ myFFourier someCoefs ]"
   ]
  },
  {
   "cell_type": "code",
   "execution_count": null,
   "metadata": {
    "collapsed": true
   },
   "outputs": [],
   "source": []
  }
 ],
 "metadata": {
  "kernelspec": {
   "display_name": "Haskell",
   "language": "haskell",
   "name": "haskell"
  },
  "language_info": {
   "codemirror_mode": "ihaskell",
   "file_extension": ".hs",
   "name": "haskell",
   "version": "7.10.2"
  }
 },
 "nbformat": 4,
 "nbformat_minor": 0
}
